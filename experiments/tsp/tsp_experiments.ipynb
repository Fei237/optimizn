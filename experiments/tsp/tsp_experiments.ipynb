{
 "cells": [
  {
   "cell_type": "code",
   "execution_count": null,
   "metadata": {
    "application/vnd.databricks.v1+cell": {
     "cellMetadata": {
      "byteLimit": 2048000,
      "rowLimit": 10000
     },
     "inputWidgets": {},
     "nuid": "2a5d2681-cc7d-411f-840c-6bde56c269ee",
     "showTitle": false,
     "title": ""
    },
    "gather": {
     "logged": 1707978867925
    }
   },
   "outputs": [],
   "source": [
    "# Copyright (c) Microsoft Corporation.\n",
    "# Licensed under the MIT License."
   ]
  },
  {
   "cell_type": "code",
   "execution_count": null,
   "metadata": {
    "application/vnd.databricks.v1+cell": {
     "cellMetadata": {
      "byteLimit": 2048000,
      "rowLimit": 10000
     },
     "inputWidgets": {},
     "nuid": "f1a89ecc-670a-41aa-ae74-a14635b40a92",
     "showTitle": false,
     "title": ""
    },
    "gather": {
     "logged": 1707978869845
    }
   },
   "outputs": [],
   "source": [
    "from experiments.tsp.tsp_experiments import (\n",
    "    run_o_sa1, run_o_sa2, run_pt_sa1, run_pt_sa2, run_mod_bnb1, run_mod_bnb2, run_trad_bnb1,\n",
    "    run_trad_bnb2, get_exp_data, save_exp_results, clear_previous_data)\n",
    "from optimizn.combinatorial.branch_and_bound import BnBSelectionStrategy"
   ]
  },
  {
   "cell_type": "code",
   "execution_count": null,
   "metadata": {
    "application/vnd.databricks.v1+cell": {
     "cellMetadata": {
      "byteLimit": 2048000,
      "rowLimit": 10000
     },
     "inputWidgets": {},
     "nuid": "54a0f41e-5971-48b9-aa5a-6b740080e1f9",
     "showTitle": false,
     "title": ""
    },
    "gather": {
     "logged": 1707978870728
    }
   },
   "outputs": [],
   "source": [
    "COMPUTE_TIME_MINS = 60\n",
    "NUM_TRIALS = 3\n",
    "RESET_P = 1/1500000\n",
    "NUM_CITIES = 200"
   ]
  },
  {
   "cell_type": "code",
   "execution_count": null,
   "metadata": {
    "application/vnd.databricks.v1+cell": {
     "cellMetadata": {
      "byteLimit": 2048000,
      "rowLimit": 10000
     },
     "inputWidgets": {},
     "nuid": "214d56b2-d998-436a-8074-ba9afb542889",
     "showTitle": false,
     "title": ""
    }
   },
   "outputs": [],
   "source": [
    "# clear all previous experiment data before running experiments\n",
    "clear_previous_data()"
   ]
  },
  {
   "cell_type": "code",
   "execution_count": null,
   "metadata": {
    "application/vnd.databricks.v1+cell": {
     "cellMetadata": {
      "byteLimit": 2048000,
      "rowLimit": 10000
     },
     "inputWidgets": {},
     "nuid": "f452cd4b-4bd6-44fb-902b-732e5cb03c59",
     "showTitle": false,
     "title": ""
    },
    "gather": {
     "logged": 1707957415730
    }
   },
   "outputs": [],
   "source": [
    "# run optimizn simulated annealing (single stretch)\n",
    "city_graph, exp_results = get_exp_data(NUM_CITIES)\n",
    "run_o_sa1(city_graph, exp_results, COMPUTE_TIME_MINS, NUM_TRIALS, RESET_P)\n",
    "save_exp_results(exp_results)"
   ]
  },
  {
   "cell_type": "code",
   "execution_count": null,
   "metadata": {
    "application/vnd.databricks.v1+cell": {
     "cellMetadata": {
      "byteLimit": 2048000,
      "rowLimit": 10000
     },
     "inputWidgets": {},
     "nuid": "f5d17dd9-4dac-440a-b2f2-8f3d1c31afb5",
     "showTitle": false,
     "title": ""
    },
    "gather": {
     "logged": 1707971814606
    }
   },
   "outputs": [],
   "source": [
    "# run optimizn simulated annealing (continuous training)\n",
    "city_graph, exp_results = get_exp_data(NUM_CITIES)\n",
    "run_o_sa2(city_graph, exp_results, COMPUTE_TIME_MINS, NUM_TRIALS, RESET_P)\n",
    "save_exp_results(exp_results)"
   ]
  },
  {
   "cell_type": "code",
   "execution_count": null,
   "metadata": {
    "application/vnd.databricks.v1+cell": {
     "cellMetadata": {
      "byteLimit": 2048000,
      "rowLimit": 10000
     },
     "inputWidgets": {},
     "nuid": "f59fdafe-bdb1-41a3-a1b2-25329fd05c25",
     "showTitle": false,
     "title": ""
    },
    "gather": {
     "logged": 1707870945014
    }
   },
   "outputs": [],
   "source": [
    "# run python-tsp simulated annealing (single stretch)\n",
    "city_graph, exp_results = get_exp_data(NUM_CITIES)\n",
    "run_pt_sa1(city_graph, exp_results, COMPUTE_TIME_MINS, NUM_TRIALS)\n",
    "save_exp_results(exp_results)"
   ]
  },
  {
   "cell_type": "code",
   "execution_count": null,
   "metadata": {
    "application/vnd.databricks.v1+cell": {
     "cellMetadata": {
      "byteLimit": 2048000,
      "rowLimit": 10000
     },
     "inputWidgets": {},
     "nuid": "07e6f224-7e9a-4af3-8414-d2cf6e4546be",
     "showTitle": false,
     "title": ""
    },
    "gather": {
     "logged": 1707870945110
    }
   },
   "outputs": [],
   "source": [
    "# run python-tsp simulated annealing (successive runs)\n",
    "city_graph, exp_results = get_exp_data(NUM_CITIES)\n",
    "run_pt_sa2(city_graph, exp_results, COMPUTE_TIME_MINS, NUM_TRIALS)\n",
    "save_exp_results(exp_results)"
   ]
  },
  {
   "cell_type": "code",
   "execution_count": null,
   "metadata": {
    "application/vnd.databricks.v1+cell": {
     "cellMetadata": {
      "byteLimit": 2048000,
      "rowLimit": 10000
     },
     "inputWidgets": {},
     "nuid": "d74a152f-4d77-4e18-8000-3a110e39eda0",
     "showTitle": false,
     "title": ""
    },
    "gather": {
     "logged": 1707870945155
    }
   },
   "outputs": [],
   "source": [
    "# run depth-first modified branch and bound (single stretch)\n",
    "city_graph, exp_results = get_exp_data(NUM_CITIES)\n",
    "run_mod_bnb1(city_graph, exp_results, COMPUTE_TIME_MINS, NUM_TRIALS,\n",
    "             BnBSelectionStrategy.DEPTH_FIRST)\n",
    "save_exp_results(exp_results)"
   ]
  },
  {
   "cell_type": "code",
   "execution_count": null,
   "metadata": {
    "application/vnd.databricks.v1+cell": {
     "cellMetadata": {
      "byteLimit": 2048000,
      "rowLimit": 10000
     },
     "inputWidgets": {},
     "nuid": "4bee642c-86ce-4f7a-bdfb-d00a2a6a7fb9",
     "showTitle": false,
     "title": ""
    },
    "gather": {
     "logged": 1707870945199
    }
   },
   "outputs": [],
   "source": [
    "# run depth-first modified branch and bound (continuous training)\n",
    "city_graph, exp_results = get_exp_data(NUM_CITIES)\n",
    "run_mod_bnb2(city_graph, exp_results, COMPUTE_TIME_MINS, NUM_TRIALS,\n",
    "             BnBSelectionStrategy.DEPTH_FIRST)\n",
    "save_exp_results(exp_results)"
   ]
  },
  {
   "cell_type": "code",
   "execution_count": null,
   "metadata": {},
   "outputs": [],
   "source": [
    "# run depth-first-best-first modified branch and bound (single stretch)\n",
    "city_graph, exp_results = get_exp_data(NUM_CITIES)\n",
    "run_mod_bnb1(city_graph, exp_results, COMPUTE_TIME_MINS, NUM_TRIALS,\n",
    "             BnBSelectionStrategy.DEPTH_FIRST_BEST_FIRST)\n",
    "save_exp_results(exp_results)"
   ]
  },
  {
   "cell_type": "code",
   "execution_count": null,
   "metadata": {},
   "outputs": [],
   "source": [
    "# run depth-first-best-first modified branch and bound (continuous training)\n",
    "city_graph, exp_results = get_exp_data(NUM_CITIES)\n",
    "run_mod_bnb2(city_graph, exp_results, COMPUTE_TIME_MINS, NUM_TRIALS,\n",
    "             BnBSelectionStrategy.DEPTH_FIRST_BEST_FIRST)\n",
    "save_exp_results(exp_results)"
   ]
  },
  {
   "cell_type": "code",
   "execution_count": null,
   "metadata": {},
   "outputs": [],
   "source": [
    "# run best-first modified branch and bound (single stretch)\n",
    "city_graph, exp_results = get_exp_data(NUM_CITIES)\n",
    "run_mod_bnb1(city_graph, exp_results, COMPUTE_TIME_MINS, NUM_TRIALS,\n",
    "             BnBSelectionStrategy.BEST_FIRST_DEPTH_FIRST)\n",
    "save_exp_results(exp_results)"
   ]
  },
  {
   "cell_type": "code",
   "execution_count": null,
   "metadata": {},
   "outputs": [],
   "source": [
    "# run best-first modified branch and bound (continuous training)\n",
    "city_graph, exp_results = get_exp_data(NUM_CITIES)\n",
    "run_mod_bnb2(city_graph, exp_results, COMPUTE_TIME_MINS, NUM_TRIALS,\n",
    "             BnBSelectionStrategy.BEST_FIRST_DEPTH_FIRST)\n",
    "save_exp_results(exp_results)"
   ]
  },
  {
   "cell_type": "code",
   "execution_count": null,
   "metadata": {
    "application/vnd.databricks.v1+cell": {
     "cellMetadata": {
      "byteLimit": 2048000,
      "rowLimit": 10000
     },
     "inputWidgets": {},
     "nuid": "104f7702-c5fd-4b55-ad7b-8b50b515e937",
     "showTitle": false,
     "title": ""
    },
    "gather": {
     "logged": 1707870945242
    }
   },
   "outputs": [],
   "source": [
    "# run depth-first traditional branch and bound (single stretch)\n",
    "city_graph, exp_results = get_exp_data(NUM_CITIES)\n",
    "run_trad_bnb1(city_graph, exp_results, COMPUTE_TIME_MINS, NUM_TRIALS,\n",
    "              BnBSelectionStrategy.DEPTH_FIRST)\n",
    "save_exp_results(exp_results)"
   ]
  },
  {
   "cell_type": "code",
   "execution_count": null,
   "metadata": {
    "application/vnd.databricks.v1+cell": {
     "cellMetadata": {
      "byteLimit": 2048000,
      "rowLimit": 10000
     },
     "inputWidgets": {},
     "nuid": "4c909bc3-e595-45f1-9e7f-31be5457c4d3",
     "showTitle": false,
     "title": ""
    },
    "gather": {
     "logged": 1707870945289
    }
   },
   "outputs": [],
   "source": [
    "# run depth-first traditional branch and bound (continuous training)\n",
    "city_graph, exp_results = get_exp_data(NUM_CITIES)\n",
    "run_trad_bnb2(city_graph, exp_results, COMPUTE_TIME_MINS, NUM_TRIALS,\n",
    "              BnBSelectionStrategy.DEPTH_FIRST)\n",
    "save_exp_results(exp_results)"
   ]
  },
  {
   "cell_type": "code",
   "execution_count": null,
   "metadata": {},
   "outputs": [],
   "source": [
    "# run depth-first-best-first traditional branch and bound (single stretch)\n",
    "city_graph, exp_results = get_exp_data(NUM_CITIES)\n",
    "run_trad_bnb1(city_graph, exp_results, COMPUTE_TIME_MINS, NUM_TRIALS,\n",
    "              BnBSelectionStrategy.DEPTH_FIRST_BEST_FIRST)\n",
    "save_exp_results(exp_results)"
   ]
  },
  {
   "cell_type": "code",
   "execution_count": null,
   "metadata": {},
   "outputs": [],
   "source": [
    "# run depth-first-best-first traditional branch and bound (continuous training)\n",
    "city_graph, exp_results = get_exp_data(NUM_CITIES)\n",
    "run_trad_bnb2(city_graph, exp_results, COMPUTE_TIME_MINS, NUM_TRIALS,\n",
    "              BnBSelectionStrategy.DEPTH_FIRST_BEST_FIRST)\n",
    "save_exp_results(exp_results)"
   ]
  },
  {
   "cell_type": "code",
   "execution_count": null,
   "metadata": {},
   "outputs": [],
   "source": [
    "# run best-first traditional branch and bound (single stretch)\n",
    "city_graph, exp_results = get_exp_data(NUM_CITIES)\n",
    "run_trad_bnb1(city_graph, exp_results, COMPUTE_TIME_MINS, NUM_TRIALS,\n",
    "              BnBSelectionStrategy.BEST_FIRST_DEPTH_FIRST)\n",
    "save_exp_results(exp_results)"
   ]
  },
  {
   "cell_type": "code",
   "execution_count": null,
   "metadata": {},
   "outputs": [],
   "source": [
    "# run best-first traditional branch and bound (continuous training)\n",
    "city_graph, exp_results = get_exp_data(NUM_CITIES)\n",
    "run_trad_bnb2(city_graph, exp_results, COMPUTE_TIME_MINS, NUM_TRIALS,\n",
    "              BnBSelectionStrategy.BEST_FIRST_DEPTH_FIRST)\n",
    "save_exp_results(exp_results)"
   ]
  },
  {
   "cell_type": "code",
   "execution_count": null,
   "metadata": {
    "application/vnd.databricks.v1+cell": {
     "cellMetadata": {
      "byteLimit": 2048000,
      "rowLimit": 10000
     },
     "inputWidgets": {},
     "nuid": "ac10787e-0dfb-4d85-9bc9-66e643184828",
     "showTitle": false,
     "title": ""
    },
    "gather": {
     "logged": 1707870945331
    }
   },
   "outputs": [],
   "source": [
    "# experiment results\n",
    "_, exp_results = get_exp_data(NUM_CITIES)\n",
    "exp_results"
   ]
  }
 ],
 "metadata": {
  "application/vnd.databricks.v1+notebook": {
   "dashboards": [],
   "language": "python",
   "notebookMetadata": {
    "pythonIndentUnit": 2
   },
   "notebookName": "tsp_experiments",
   "widgets": {}
  },
  "kernel_info": {
   "name": "python38-azureml"
  },
  "kernelspec": {
   "display_name": "optimizn",
   "language": "python",
   "name": "python3"
  },
  "language_info": {
   "codemirror_mode": {
    "name": "ipython",
    "version": 3
   },
   "file_extension": ".py",
   "mimetype": "text/x-python",
   "name": "python",
   "nbconvert_exporter": "python",
   "pygments_lexer": "ipython3",
   "version": "3.11.5"
  },
  "microsoft": {
   "host": {
    "AzureML": {
     "notebookHasBeenCompleted": true
    }
   },
   "ms_spell_check": {
    "ms_spell_check_language": "en"
   }
  },
  "nteract": {
   "version": "nteract-front-end@1.0.0"
  }
 },
 "nbformat": 4,
 "nbformat_minor": 0
}
